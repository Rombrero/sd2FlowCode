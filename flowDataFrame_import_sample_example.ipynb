{
 "cells": [
  {
   "cell_type": "code",
   "execution_count": 1,
   "metadata": {
    "collapsed": true
   },
   "outputs": [],
   "source": [
    "import pandas as pd\n",
    "import os"
   ]
  },
  {
   "cell_type": "code",
   "execution_count": 25,
   "metadata": {
    "collapsed": true
   },
   "outputs": [],
   "source": [
    "# Functions to grab sample table describing data or data frame with flow measurements\n",
    "\n",
    "def getSampleSheet(folderDir,runPrefix, showHeader = 0):\n",
    "    df = pd.read_csv(folderDir+runPrefix+'_sampleTable.csv',index_col=0)\n",
    "    if showHeader:\n",
    "        print df.head()\n",
    "    return df\n",
    "def getFlowDF(folderDir,runPrefix):\n",
    "    return pd.read_csv(folderDir+runPrefix+'_flowDataFrame.csv',index_col=0)"
   ]
  },
  {
   "cell_type": "code",
   "execution_count": 22,
   "metadata": {
    "collapsed": true
   },
   "outputs": [],
   "source": [
    "folderDir = 'UWBiofab/' # Use slash at end of path\n",
    "runPrefix = 'UWBiofab_20170811'"
   ]
  },
  {
   "cell_type": "code",
   "execution_count": 24,
   "metadata": {
    "collapsed": false
   },
   "outputs": [
    {
     "name": "stdout",
     "output_type": "stream",
     "text": [
      "       date       lab well strainID  bioReplicate  techReplicate  \\\n",
      "0  20170929  UWBiofab  A01       WT             1              1   \n",
      "1  20170929  UWBiofab  A02       WT             2              1   \n",
      "2  20170929  UWBiofab  A03       WT             3              1   \n",
      "3  20170929  UWBiofab  A04   XOR_00             1              1   \n",
      "4  20170929  UWBiofab  A05   XOR_00             2              1   \n",
      "\n",
      "                                            filePath  numCounts  \n",
      "0  /home/jupyter/sd2e-community/processed_staging...      30000  \n",
      "1  /home/jupyter/sd2e-community/processed_staging...      30000  \n",
      "2  /home/jupyter/sd2e-community/processed_staging...      30000  \n",
      "3  /home/jupyter/sd2e-community/processed_staging...      30000  \n",
      "4  /home/jupyter/sd2e-community/processed_staging...      30000  \n"
     ]
    }
   ],
   "source": [
    "# Import sample table data\n",
    "dfSheet1 = getSampleSheet(folderDir,runPrefix,0)\n",
    "dfSheet2 = getSampleSheet(folderDir,'UWBiofab_20170929',1)"
   ]
  },
  {
   "cell_type": "code",
   "execution_count": null,
   "metadata": {
    "collapsed": true
   },
   "outputs": [],
   "source": [
    "# Import flow data\n",
    "dfRun1 = getFlowDF(folderDir,runPrefix)\n",
    "dfRun2 = getFlowDF(folderDir,'UWBiofab_20170929')"
   ]
  },
  {
   "cell_type": "code",
   "execution_count": 26,
   "metadata": {
    "collapsed": false
   },
   "outputs": [
    {
     "data": {
      "text/plain": [
       "Index([u'FL1-A', u'FL1-H', u'FL2-A', u'FL2-H', u'FL3-A', u'FL3-H', u'FL4-A',\n",
       "       u'FL4-H', u'FSC-A', u'FSC-H', u'Lab', u'SSC-A', u'SSC-H', u'Strain',\n",
       "       u'Time', u'Width', u'bioReplicate', u'techReplicate'],\n",
       "      dtype='object')"
      ]
     },
     "execution_count": 26,
     "metadata": {},
     "output_type": "execute_result"
    }
   ],
   "source": [
    "# Show fields in data frame\n",
    "dfRun1.columns"
   ]
  },
  {
   "cell_type": "code",
   "execution_count": 13,
   "metadata": {
    "collapsed": false
   },
   "outputs": [
    {
     "data": {
      "text/plain": [
       "XOR_10    60000\n",
       "XOR_11    60000\n",
       "WT        60000\n",
       "XOR_01    60000\n",
       "XOR_00    60000\n",
       "Name: Strain, dtype: int64"
      ]
     },
     "execution_count": 13,
     "metadata": {},
     "output_type": "execute_result"
    }
   ],
   "source": [
    "# Show sample types with number of data points for each sample type\n",
    "dfRun1['Strain'].value_counts()"
   ]
  },
  {
   "cell_type": "code",
   "execution_count": 9,
   "metadata": {
    "collapsed": true
   },
   "outputs": [],
   "source": [
    "# Create new data frame that includes only WT strain data for a few flow measurement channels\n",
    "dfWT = dfRun1[dfRun1['Strain'] == 'WT' ][['FL1-A','FSC-A','SSC-A']]"
   ]
  },
  {
   "cell_type": "code",
   "execution_count": 13,
   "metadata": {
    "collapsed": false
   },
   "outputs": [
    {
     "name": "stdout",
     "output_type": "stream",
     "text": [
      "<type 'numpy.ndarray'>\n"
     ]
    }
   ],
   "source": [
    "# Convert filtered data frame to numpy array\n",
    "dfWT.head()\n",
    "dfWTarray = dfWT.as_matrix();\n",
    "print(type(dfWTarray))"
   ]
  },
  {
   "cell_type": "code",
   "execution_count": 15,
   "metadata": {
    "collapsed": false
   },
   "outputs": [
    {
     "data": {
      "text/plain": [
       "60000"
      ]
     },
     "execution_count": 15,
     "metadata": {},
     "output_type": "execute_result"
    }
   ],
   "source": [
    "len(dfWT)"
   ]
  }
 ],
 "metadata": {
  "kernelspec": {
   "display_name": "Python 2",
   "language": "python",
   "name": "python2"
  },
  "language_info": {
   "codemirror_mode": {
    "name": "ipython",
    "version": 2
   },
   "file_extension": ".py",
   "mimetype": "text/x-python",
   "name": "python",
   "nbconvert_exporter": "python",
   "pygments_lexer": "ipython2",
   "version": "2.7.11"
  }
 },
 "nbformat": 4,
 "nbformat_minor": 2
}
